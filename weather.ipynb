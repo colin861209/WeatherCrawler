{
 "cells": [
  {
   "cell_type": "code",
   "execution_count": 126,
   "source": [
    "import requests\r\n",
    "from bs4 import BeautifulSoup"
   ],
   "outputs": [],
   "metadata": {}
  },
  {
   "cell_type": "code",
   "execution_count": 127,
   "source": [
    "\r\n",
    "# Link to predict 7 days in a week\r\n",
    "url = \"https://www.cwb.gov.tw/V8/C/W/County/MOD/wf7dayNC_NCSEI/ALL_Week.html?v=213930\"\r\n",
    "payload={}\r\n",
    "headers = {}\r\n",
    "response = requests.request(\"GET\", url, headers=headers, data=payload)\r\n",
    "# parse to bs4 format\r\n",
    "soup = BeautifulSoup(response.text, 'html.parser')\r\n",
    "# dict to save all info\r\n",
    "data = dict()"
   ],
   "outputs": [],
   "metadata": {}
  },
  {
   "cell_type": "code",
   "execution_count": 128,
   "source": [
    "# Get table title\r\n",
    "theadElement = soup.find('thead')\r\n",
    "headTitles = theadElement.find_all('span')\r\n",
    "titles=[]\r\n",
    "for title in headTitles:\r\n",
    "    titles.append(title.next_element)\r\n",
    "data={\"titles\": titles}"
   ],
   "outputs": [],
   "metadata": {}
  },
  {
   "cell_type": "code",
   "execution_count": 130,
   "source": [
    "eachCountryBody = soup.find_all('tbody')\r\n",
    "for i in range (len(eachCountryBody)):\r\n",
    "    # Get country name, noon weather and tempture\r\n",
    "    countryDay=eachCountryBody[i].find('tr', class_=\"day\")\r\n",
    "    name_tmp=countryDay.find('span', class_=\"heading_3\")\r\n",
    "    time_tmp=countryDay.find('td')\r\n",
    "    name=name_tmp.text\r\n",
    "    dayTime=time_tmp.contents[1].text\r\n",
    "    dayWeatherIcon=countryDay.find_all('img', limit=7)\r\n",
    "    dayTempture=countryDay.find_all('span', class_=\"tem-C is-active\", limit=7)\r\n",
    "    # Get night weather and tempture\r\n",
    "    countryNight=eachCountryBody[i].find('tr', class_=\"night\")\r\n",
    "    time_tmp=countryNight.find('td')\r\n",
    "    nightTime=time_tmp.contents[1].text\r\n",
    "    nightWeatherIcon=countryNight.find_all('img', limit=7)\r\n",
    "    nightTempture=countryNight.find_all('span', class_=\"tem-C is-active\", limit=7)\r\n",
    "    # Append into array\r\n",
    "    weather, temp=[], []\r\n",
    "    for i, j, k, l in zip(dayWeatherIcon, dayTempture, nightWeatherIcon, nightTempture):\r\n",
    "        weather.append(i.get('title'))\r\n",
    "        weather.append(k.get('title'))\r\n",
    "        temp.append(j.text)\r\n",
    "        temp.append(l.text)\r\n",
    "    # Save each country weather and tempture information\r\n",
    "    data[name]={\"weather\": weather, \"tempture\": temp}\r\n"
   ],
   "outputs": [],
   "metadata": {}
  }
 ],
 "metadata": {
  "orig_nbformat": 4,
  "language_info": {
   "name": "python",
   "version": "3.7.10",
   "mimetype": "text/x-python",
   "codemirror_mode": {
    "name": "ipython",
    "version": 3
   },
   "pygments_lexer": "ipython3",
   "nbconvert_exporter": "python",
   "file_extension": ".py"
  },
  "kernelspec": {
   "name": "python3",
   "display_name": "Python 3.7.10 64-bit ('webDriver': conda)"
  },
  "interpreter": {
   "hash": "b6fa215104b85516c5f7841cbb16795305c3822d40ddcc5111db3c6629d9487d"
  }
 },
 "nbformat": 4,
 "nbformat_minor": 2
}