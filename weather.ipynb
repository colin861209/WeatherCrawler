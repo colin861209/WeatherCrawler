{
 "cells": [
  {
   "cell_type": "code",
   "execution_count": 85,
   "source": [
    "import requests\r\n",
    "from bs4 import BeautifulSoup"
   ],
   "outputs": [],
   "metadata": {}
  },
  {
   "cell_type": "code",
   "execution_count": 86,
   "source": [
    "\r\n",
    "# Link to predict 7 days in a week\r\n",
    "url = \"https://www.cwb.gov.tw/V8/C/W/County/MOD/wf7dayNC_NCSEI/ALL_Week.html?v=123947\"\r\n",
    "payload={}\r\n",
    "headers = {}\r\n",
    "response = requests.request(\"GET\", url, headers=headers, data=payload)\r\n",
    "# parse to bs4 format\r\n",
    "soup = BeautifulSoup(response.text, 'html.parser')"
   ],
   "outputs": [],
   "metadata": {}
  },
  {
   "cell_type": "code",
   "execution_count": 87,
   "source": [
    "# Get table title\r\n",
    "theadElement = soup.find('thead')\r\n",
    "headTitles = theadElement.find_all('span')\r\n",
    "titles=[]\r\n",
    "for title in headTitles:\r\n",
    "    titles.append(title.next_element)\r\n",
    "titles = {\"titles\": titles}"
   ],
   "outputs": [],
   "metadata": {}
  },
  {
   "cell_type": "code",
   "execution_count": 88,
   "source": [
    "titles"
   ],
   "outputs": [
    {
     "output_type": "execute_result",
     "data": {
      "text/plain": [
       "{'titles': ['縣市',\n",
       "  '時間',\n",
       "  '10/07',\n",
       "  '10/08',\n",
       "  '10/09',\n",
       "  '10/10',\n",
       "  '10/11',\n",
       "  '10/12',\n",
       "  '10/13']}"
      ]
     },
     "metadata": {},
     "execution_count": 88
    }
   ],
   "metadata": {}
  },
  {
   "cell_type": "code",
   "execution_count": 116,
   "source": [
    "eachCountry = soup.find_all('tbody')\r\n",
    "country_tmp = eachCountry[0].find('a')\r\n",
    "name = country_tmp.text\r\n",
    "\r\n",
    "# for i in range (len(eachCountry)):\r\n",
    "#     countryName = eachCountry[i].find('a')\r\n",
    "#     (countryName.text)\r\n",
    "# countries = {\"country\": country}"
   ],
   "outputs": [],
   "metadata": {}
  }
 ],
 "metadata": {
  "orig_nbformat": 4,
  "language_info": {
   "name": "python",
   "version": "3.7.10"
  },
  "kernelspec": {
   "name": "python3",
   "display_name": "Python 3.7.10 64-bit ('webDriver': conda)"
  },
  "interpreter": {
   "hash": "b6fa215104b85516c5f7841cbb16795305c3822d40ddcc5111db3c6629d9487d"
  }
 },
 "nbformat": 4,
 "nbformat_minor": 2
}